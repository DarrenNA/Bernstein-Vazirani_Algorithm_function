{
 "cells": [
  {
   "cell_type": "code",
   "execution_count": 13,
   "id": "3c7fb32f",
   "metadata": {},
   "outputs": [],
   "source": [
    "#Importing the required libraries ands set\n",
    "import time\n",
    "import numpy as np\n",
    "from qiskit import *\n",
    "from qiskit.circuit import Parameter\n",
    "from qiskit.quantum_info import Statevector, Pauli, SparsePauliOp\n",
    "from qiskit.circuit.library import RealAmplitudes\n",
    "import matplotlib.pyplot as plt\n",
    "import matplotlib.ticker as tck\n",
    "from qiskit.tools.visualization import plot_histogram\n",
    "# %config InlineBackend.figure_format='retina'\n",
    "from qiskit_ibm_runtime import QiskitRuntimeService, Session, Options, Sampler, Estimator\n",
    "# initialization\n",
    "import matplotlib.pyplot as plt\n",
    "import numpy as np\n",
    "# importing Qiskit\n",
    "from qiskit import IBMQ, Aer\n",
    "from qiskit.providers.ibmq import least_busy\n",
    "from qiskit import QuantumCircuit, ClassicalRegister, QuantumRegister, transpile\n",
    "# import basic plot tools\n",
    "from qiskit.visualization import plot_histogram\n"
   ]
  },
  {
   "cell_type": "code",
   "execution_count": 14,
   "id": "cc9a8472",
   "metadata": {},
   "outputs": [],
   "source": [
    "def bernstein_vazirani(string):\n",
    "    \n",
    "    # Save the length of string\n",
    "    string_length = len(string)\n",
    "    \n",
    "    # Make a quantum circuit\n",
    "    qc = QuantumCircuit(string_length+1, string_length)\n",
    "    \n",
    "    # Initialize each input qubit to apply a Hadamard gate and output qubit to |->\n",
    "    \n",
    "    qc.x(string_length)\n",
    "    qc.h(string_length)\n",
    "    for i in range(string_length):\n",
    "        qc.h(i)\n",
    "    \n",
    "    #\n",
    "    \n",
    "    # Apply an oracle for the given string\n",
    "    # Note: In Qiskit, numbers are assigned to the bits in a string from right to left\n",
    "    s = string[::-1]\n",
    "    for q in range(string_length):\n",
    "        if s[q] == '0':\n",
    "            qc.i(q)\n",
    "        else:\n",
    "            qc.cx(q, string_length)\n",
    "\n",
    "    \n",
    "    # Apply Hadamard gates after querying the oracle\n",
    "    for i in range(string_length):\n",
    "        qc.h(i)\n",
    "\n",
    "    \n",
    "    # Measurement\n",
    "    qc.measure(range(string_length), range(string_length))\n",
    "    \n",
    "    return qc"
   ]
  },
  {
   "cell_type": "code",
   "execution_count": 35,
   "id": "029f4be1",
   "metadata": {},
   "outputs": [
    {
     "data": {
      "image/png": "[encoded data removed]",
      "text/plain": [
       "<Figure size 872.774x451.5 with 1 Axes>"
      ]
     },
     "metadata": {},
     "output_type": "display_data"
    }
   ],
   "source": [
    "#example if we enter the hidden string '111' , you can test this using any bitstrings of 0 and 1 \n",
    "qc1 = bernstein_vazirani('111')\n",
    "display(qc1.draw(output=\"mpl\"))"
   ]
  },
  {
   "cell_type": "code",
   "execution_count": 28,
   "id": "0254a136",
   "metadata": {},
   "outputs": [
    {
     "name": "stdout",
     "output_type": "stream",
     "text": [
      "<IBMBackend('ibmq_qasm_simulator')>\n"
     ]
    }
   ],
   "source": [
    "#First, let's set a backend to use. We shall be running our routines on the ibmq_qasm_simulator on cloud\n",
    "backend = service.backends(simulator=True)[0]\n",
    "print(backend)"
   ]
  },
  {
   "cell_type": "code",
   "execution_count": 29,
   "id": "d2356afb",
   "metadata": {},
   "outputs": [],
   "source": [
    "#Now let us build a session constructor here. We will make Session using with statement and define our Sampler instance to run our Bernstein-Vazirani circuits within this session. \n",
    "#The with statement here denotes a context manager that is used to pass in the service that we previously defined as the initial parameter for the constructor. \n",
    "#To submit a job with the Sampler, use run method specifying parameters within it. \n",
    "#It requires you to pass in circuits which can be either a single circuit or a list of QuantumCircuit. \n",
    "#The best feature of this structure is how quickly you can scale the number of circuits you pass by simply changing the list being passed to the Sampler run call.\n",
    "\n",
    "\n",
    "\n",
    "options = Options(simulator={\"seed_simulator\": 42}, resilience_level=0) # Do not change values in simulator\n",
    "\n"
   ]
  },
  {
   "cell_type": "code",
   "execution_count": 37,
   "id": "3fba94a2",
   "metadata": {},
   "outputs": [],
   "source": [
    "#For a consistent result, we will set a seed for Sampler. \n",
    "#You can set the seed inside the Sampler object using options above. \n",
    "#The example of how to use options with Sampler is right below:\n",
    "\n",
    "with Session(service=service, backend=backend):\n",
    "    sampler = Sampler(options=options)\n",
    "    job = sampler.run(circuits=[qc1])"
   ]
  },
  {
   "cell_type": "code",
   "execution_count": 38,
   "id": "46a70731",
   "metadata": {},
   "outputs": [
    {
     "data": {
      "text/plain": [
       "[{7: 1.0}]"
      ]
     },
     "execution_count": 38,
     "metadata": {},
     "output_type": "execute_result"
    }
   ],
   "source": [
    "#After running the sampler, it returns a RuntimeJob object and we can extract the results from this object using the result method to check the returned data. \n",
    "#We can then pick our individual data of interest from this returned result. \n",
    "#Details are here:https://qiskit.org/documentation/partners/qiskit_ibm_runtime/stubs/qiskit_ibm_runtime.RuntimeJob.html#qiskit_ibm_runtime.RuntimeJob.\n",
    "result = job.result()\n",
    "result.quasi_dists"
   ]
  },
  {
   "cell_type": "code",
   "execution_count": 44,
   "id": "b65d4720",
   "metadata": {},
   "outputs": [],
   "source": [
    "# The hidden string of the circuit qc1 is 111 and the first result is 7 (7 in binary, 111). \n",
    "#Its probability is 1.0 and it means the circuit returns 7 for 100% sure."
   ]
  },
  {
   "cell_type": "code",
   "execution_count": 45,
   "id": "df0f6f26",
   "metadata": {},
   "outputs": [],
   "source": [
    "#Running this on a real Quantum Computer"
   ]
  },
  {
   "cell_type": "code",
   "execution_count": 46,
   "id": "0509c41d",
   "metadata": {},
   "outputs": [
    {
     "name": "stderr",
     "output_type": "stream",
     "text": [
      "ibmqfactory.load_account:WARNING:2022-11-20 15:58:38,551: Credentials are already in use. The existing account in the session will be replaced.\n"
     ]
    },
    {
     "name": "stdout",
     "output_type": "stream",
     "text": [
      "least busy backend:  ibmq_quito\n"
     ]
    }
   ],
   "source": [
    "# Load our saved IBMQ accounts and get the least busy backend device with less than or equal to 5 qubits\n",
    "IBMQ.load_account()\n",
    "provider = IBMQ.get_provider(hub='ibm-q')\n",
    "provider.backends()\n",
    "backend = least_busy(provider.backends(filters=lambda x: x.configuration().n_qubits <= 5 and\n",
    "                                   x.configuration().n_qubits >= 2 and\n",
    "                                   not x.configuration().simulator and x.status().operational==True))\n",
    "print(\"least busy backend: \", backend)"
   ]
  },
  {
   "cell_type": "code",
   "execution_count": 47,
   "id": "7110638f",
   "metadata": {},
   "outputs": [
    {
     "name": "stdout",
     "output_type": "stream",
     "text": [
      "Job Status: job has successfully run\n"
     ]
    }
   ],
   "source": [
    "# Run our circuit on the least busy backend. Monitor the execution of the job in the queue\n",
    "from qiskit.tools.monitor import job_monitor\n",
    "\n",
    "shots = 1024\n",
    "transpiled_qc1 = transpile(qc1, backend)\n",
    "job = backend.run(transpiled_qc1, shots=shots)\n",
    "\n",
    "job_monitor(job, interval=2)"
   ]
  },
  {
   "cell_type": "code",
   "execution_count": 48,
   "id": "ec930d9c",
   "metadata": {},
   "outputs": [
    {
     "data": {
      "image/png": "[encoded data removed]",
      "text/plain": [
       "<Figure size 700x500 with 1 Axes>"
      ]
     },
     "execution_count": 48,
     "metadata": {},
     "output_type": "execute_result"
    }
   ],
   "source": [
    "# Get the results from the computation\n",
    "results = job.result()\n",
    "answer = results.get_counts()\n",
    "\n",
    "plot_histogram(answer)"
   ]
  },
  {
   "cell_type": "code",
   "execution_count": null,
   "id": "87acf4d5",
   "metadata": {},
   "outputs": [],
   "source": [
    "#As we can see, most of the results are 111. The other results are due to errors in the quantum computation."
   ]
  }
 ],
 "metadata": {
  "kernelspec": {
   "display_name": "Qiskit (stable)",
   "language": "python",
   "name": "qiskit-stable"
  },
  "language_info": {
   "codemirror_mode": {
    "name": "ipython",
    "version": 3
   },
   "file_extension": ".py",
   "mimetype": "text/x-python",
   "name": "python",
   "nbconvert_exporter": "python",
   "pygments_lexer": "ipython3",
   "version": "3.9.13"
  }
 },
 "nbformat": 4,
 "nbformat_minor": 5
}
